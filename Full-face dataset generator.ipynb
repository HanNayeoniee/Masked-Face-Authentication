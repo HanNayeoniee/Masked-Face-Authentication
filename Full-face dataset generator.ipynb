{
 "cells": [
  {
   "cell_type": "markdown",
   "metadata": {},
   "source": [
    "## "
   ]
  },
  {
   "cell_type": "code",
   "execution_count": 1,
   "metadata": {},
   "outputs": [],
   "source": [
    "import face_alignment\n",
    "from skimage import io\n",
    "import cv2\n",
    "\n",
    "# gpu버전\n",
    "# fa = face_alignment.FaceAlignment(face_alignment.LandmarksType._2D, flip_input=False)\n",
    "# cpu버전\n",
    "fa = face_alignment.FaceAlignment(face_alignment.LandmarksType._2D, device='cpu')"
   ]
  },
  {
   "cell_type": "code",
   "execution_count": 3,
   "metadata": {},
   "outputs": [],
   "source": [
    "# file_dir = 'sample.png'\n",
    "# file_dir='./dataset/data_fullface/0003/003_12_image.png'\n",
    "file_dir='./test/assets/f_50_fron.jpg'\n",
    "\n",
    "input = io.imread(file_dir)\n",
    "preds = fa.get_landmarks(input)"
   ]
  },
  {
   "cell_type": "code",
   "execution_count": 4,
   "metadata": {},
   "outputs": [],
   "source": [
    "# 사진 띄우기\n",
    "\n",
    "cv2.imshow('image', input)\n",
    "cv2.waitKey(0)\n",
    "cv2.destroyAllWindows()"
   ]
  },
  {
   "cell_type": "code",
   "execution_count": 5,
   "metadata": {},
   "outputs": [
    {
     "name": "stdout",
     "output_type": "stream",
     "text": [
      "144.0 291.0\n",
      "141.0 193.0\n",
      "58.0 184.0\n",
      "224.0 193.0\n"
     ]
    }
   ],
   "source": [
    "# 랜드마크 하나씩 출력해서 확인하기\n",
    "\n",
    "n=0\n",
    "print(preds[n][8][0], preds[n][8][1])  # 턱끝\n",
    "print(preds[n][28][0], preds[n][28][1])  # 위쪽 코\n",
    "print(preds[n][0][0], preds[n][0][1])  # 왼쪽 광대(끝)\n",
    "print(preds[n][16][0], preds[n][16][1])  # 오른쪽 광대(끝)"
   ]
  },
  {
   "cell_type": "code",
   "execution_count": 7,
   "metadata": {},
   "outputs": [],
   "source": [
    "# 깨끗한 이미지\n",
    "# file_dir='./dataset/data_fullface/0003/003_00_image.png'\n",
    "# file_dir='./dataset/data_fullface/0003/003_12_image.png'\n",
    "# file_dir = './dataset/data_fullface/0012/012_11_image.png'\n",
    "file_dir='./test/assets/f_50_fron.jpg'\n",
    "input = io.imread(file_dir)\n",
    "preds = fa.get_landmarks(input)\n",
    "\n",
    "\n",
    "half_height=preds[n][8][1] - preds[n][28][1]\n",
    "# img = cv2.line(input, (x_min, y_min), (x_max, y_max), (0, 255, 0), 3) # (B, G, R)\n",
    "# img = cv2.line(input, (preds[n][0][0], preds[n][0][1]), (preds[n][8][0], preds[n][8][1]), (0, 0, 255), 3) # (B, G, R)\n",
    "img = cv2.line(input, (preds[n][0][0], preds[n][8][1]), (preds[n][16][0], preds[n][8][1]), (0, 0, 255), 3)\n",
    "img = cv2.line(input, (preds[n][16][0], preds[n][8][1]), (preds[n][16][0], preds[n][28][1]-half_height), (0, 0, 255), 3)\n",
    "img = cv2.line(input, (preds[n][16][0], preds[n][28][1]-half_height), (preds[n][0][0], preds[n][28][1]-half_height), (0, 0, 255), 3)\n",
    "img = cv2.line(input, (preds[n][0][0], preds[n][28][1]-half_height), (preds[n][0][0], preds[n][8][1]), (0, 0, 255), 3)\n",
    "\n",
    "\n",
    "cv2.imshow('image', img)\n",
    "cv2.waitKey(0)\n",
    "cv2.destroyAllWindows()"
   ]
  },
  {
   "cell_type": "code",
   "execution_count": 8,
   "metadata": {},
   "outputs": [],
   "source": [
    "# crop roi image\n",
    "\n",
    "img = cv2.imread(file_dir)\n",
    "\n",
    "roi_image = img.copy() \n",
    "roi_image = img[int(preds[n][28][1]-half_height):int(preds[n][8][1]+1), int(preds[n][0][0]):int(preds[n][16][0]+1)]\n",
    "\n",
    "cv2.imshow(\"src\", img)\n",
    "cv2.imshow(\"dst\", roi_image)\n",
    "cv2.waitKey(0)\n",
    "cv2.destroyAllWindows()"
   ]
  },
  {
   "cell_type": "code",
   "execution_count": 9,
   "metadata": {},
   "outputs": [
    {
     "name": "stdout",
     "output_type": "stream",
     "text": [
      "(480, 270, 3)\n",
      "(197, 167, 3)\n",
      "(120, 120, 3)\n"
     ]
    }
   ],
   "source": [
    "# resize\n",
    "\n",
    "resized = cv2.resize(roi_image, dsize=(120, 120), interpolation=cv2.INTER_AREA) # x, y\n",
    "\n",
    "print(img.shape)\n",
    "print(roi_image.shape)\n",
    "print(resized.shape)\n",
    "\n",
    "# cv2.imshow(\"src\", roi_image)\n",
    "cv2.imshow(\"dst\", resized)\n",
    "\n",
    "cv2.waitKey(0)\n",
    "cv2.destroyAllWindows()"
   ]
  },
  {
   "cell_type": "code",
   "execution_count": null,
   "metadata": {},
   "outputs": [],
   "source": [
    "# save\n",
    "print(file_dir)\n",
    "print(file_dir[:-4])\n",
    "\n",
    "save_dir = file_dir[:-4] + '_resized.jpg'\n",
    "print(save_dir)"
   ]
  },
  {
   "cell_type": "code",
   "execution_count": null,
   "metadata": {},
   "outputs": [],
   "source": [
    "cv2.imwrite(save_dir, resized)"
   ]
  },
  {
   "cell_type": "code",
   "execution_count": null,
   "metadata": {},
   "outputs": [],
   "source": []
  },
  {
   "cell_type": "markdown",
   "metadata": {},
   "source": [
    "## 얼굴 영역만 검출한 후 crop해서 저장하기"
   ]
  },
  {
   "cell_type": "code",
   "execution_count": null,
   "metadata": {
    "scrolled": true
   },
   "outputs": [],
   "source": [
    "import os\n",
    "import glob\n",
    "import cv2\n",
    "import numpy as np\n",
    "import face_alignment\n",
    "from skimage import io\n",
    "\n",
    "fa = face_alignment.FaceAlignment(face_alignment.LandmarksType._2D, flip_input=False)\n",
    "n = 0\n",
    "PRLAB_path='./dataset/data_fullface' \n",
    "PRLAB_folder_list= os.listdir(PRLAB_path) #PRLAB 내부 폴더 리스트\n",
    "#print (PRLAB_folder_list)\n",
    "\n",
    "for folder_num in range(0, len(PRLAB_folder_list)):\n",
    "    #print('PRLAB_folder: %s' %PRLAB_folder_list[folder_num])\n",
    "    dirs = PRLAB_path + '/' + PRLAB_folder_list[folder_num]\n",
    "#     print('dirs: %s' %dirs)\n",
    "    filelist = os.listdir(dirs)\n",
    "    \n",
    "    for img_num in range(0,len(filelist)):\n",
    "        file_path = dirs + '/' + filelist[img_num]\n",
    "        stream = open(file_path.encode(\"utf-8\"), \"rb\")\n",
    "        bytes = bytearray(stream.read())\n",
    "        numpyArray = np.asarray(bytes, dtype=np.uint8)\n",
    "        try:\n",
    "            img = cv2.imdecode(numpyArray,cv2.IMREAD_COLOR) # 이미지가 아니라 다른게 불러와지면 에러 발생\n",
    "            preds = np.array(fa.get_landmarks(img)) # 검출 불가능하면 에러 발생\n",
    "        except:\n",
    "            print(\"face detect불가\")\n",
    "            print(dirs +'/'+ filelist[img_num])\n",
    "            print(\"폴더명 :\"+ str(folder_num))\n",
    "            continue\n",
    "        \n",
    "#         print('filelist: %s' %filelist)\n",
    "        \n",
    "\n",
    "        x_max = 0\n",
    "        x_min = len(img)\n",
    "        y_max = 0\n",
    "        y_min = len(img[0])\n",
    "        \n",
    "        try:\n",
    "            for i in range(0, len(preds[0])):\n",
    "                if (x_max < preds[0][i][0]):\n",
    "                    x_max = preds[0][i][0]\n",
    "                if (x_min > preds[0][i][0]):\n",
    "                    x_min = preds[0][i][0]\n",
    "                if (y_max < preds[0][i][1]):\n",
    "                    y_max = preds[0][i][1]\n",
    "                if (y_min > preds[0][i][1]):\n",
    "                    y_min = preds[0][i][1]\n",
    "        except: \n",
    "            print(\"periocular detect불가\")\n",
    "            print(dirs +'/'+ filelist[img_num])\n",
    "            print(\"폴더명 :\"+ str(folder_num))\n",
    "            continue\n",
    "\n",
    "        half_height=preds[n][8][1] - preds[n][28][1]    \n",
    "        roi_image = img.copy() \n",
    "        roi_image = img[int(preds[n][28][1]-half_height):int(preds[n][8][1]+1), int(preds[n][0][0]):int(preds[n][16][0]+1)]\n",
    "        try:\n",
    "            resized = cv2.resize(roi_image, dsize=(120, 120), interpolation=cv2.INTER_AREA)\n",
    "        except: \n",
    "            print(\"face detect불가\")\n",
    "            print(dirs +'/'+ filelist[img_num])\n",
    "            print(\"폴더명 :\"+ str(folder_num))\n",
    "            \n",
    "            continue\n",
    "        \n",
    "        if (os.path.isdir('./output')): # output폴더 있으면\n",
    "            out_folder = './output/'+ str(folder_num)+'/'\n",
    "            \n",
    "        if(os.path.isdir(out_folder)): #output/person 에 save하기\n",
    "            save_fname = str(folder_num) + '_' + str(img_num) + '_resized.jpg'\n",
    "            cv2.imwrite('./output/'+ str(folder_num) + '/' + save_fname, resized)\n",
    "            #print('./output/'+ str(folder_num) + '/' + save_fname)\n",
    "        else: # output/person 이 없으면 만들고 save\n",
    "            os.mkdir(out_folder)\n",
    "            save_fname = str(folder_num) + '_' + str(img_num) + '_resized.jpg'\n",
    "            cv2.imwrite('./output/'+ str(folder_num) + '/' + save_fname, resized)\n",
    "            #print('./output/'+ str(folder_num) + '/' + save_fname)\n"
   ]
  },
  {
   "cell_type": "code",
   "execution_count": null,
   "metadata": {},
   "outputs": [],
   "source": []
  }
 ],
 "metadata": {
  "kernelspec": {
   "display_name": "pytorch",
   "language": "python",
   "name": "pytorch"
  },
  "language_info": {
   "codemirror_mode": {
    "name": "ipython",
    "version": 3
   },
   "file_extension": ".py",
   "mimetype": "text/x-python",
   "name": "python",
   "nbconvert_exporter": "python",
   "pygments_lexer": "ipython3",
   "version": "3.7.7"
  }
 },
 "nbformat": 4,
 "nbformat_minor": 4
}
