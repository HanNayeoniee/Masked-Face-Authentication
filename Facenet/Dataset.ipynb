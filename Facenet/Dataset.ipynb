{
 "cells": [
  {
   "cell_type": "markdown",
   "metadata": {},
   "source": [
    "# 우리가 나눈 train/val/test dataset을 h5파일로 만들기"
   ]
  },
  {
   "cell_type": "markdown",
   "metadata": {},
   "source": [
    "# Load Data"
   ]
  },
  {
   "cell_type": "code",
   "execution_count": 10,
   "metadata": {},
   "outputs": [
    {
     "name": "stdout",
     "output_type": "stream",
     "text": [
      "923\n",
      "198\n",
      "198\n",
      "(19242, 120, 120, 3) (923,) (923,)\n",
      "(2109, 120, 120, 3) (198,) (198,)\n",
      "(2122, 120, 120, 3) (198,) (198,)\n"
     ]
    }
   ],
   "source": [
    "import glob\n",
    "import h5py\n",
    "import numpy as np\n",
    "import cv2\n",
    "\n",
    "train_dirs = glob.glob('../data/db_cropped_face/train/*')\n",
    "val_dirs = glob.glob('../data/db_cropped_face/val/*')\n",
    "test_dirs = glob.glob('../data/db_cropped_face/test/*')\n",
    "\n",
    "print(len(train_dirs))\n",
    "print(len(val_dirs))\n",
    "print(len(test_dirs))\n",
    "\n",
    "def get_image_index_count(dirs):\n",
    "    index_list = [0]\n",
    "    count_list = []\n",
    "    image_list = []\n",
    "    \n",
    "    for dir_name in dirs:\n",
    "        paths = glob.glob(dir_name+'/*.jpg')\n",
    "\n",
    "        count = len(paths)\n",
    "        count_list.append(count)\n",
    "        index_list.append(index_list[-1] + count)\n",
    "\n",
    "        for path in paths:\n",
    "            image = cv2.imread(path)\n",
    "            image_list.append(image)\n",
    "    del index_list[-1]\n",
    "    \n",
    "    return np.array(image_list), np.array(index_list), np.array(count_list)\n",
    "\n",
    "train_image, train_index, train_count = get_image_index_count(train_dirs)\n",
    "val_image, val_index, val_count = get_image_index_count(val_dirs)\n",
    "test_image, test_index, test_count = get_image_index_count(test_dirs)\n",
    "\n",
    "print(train_image.shape, train_index.shape, train_count.shape)\n",
    "print(val_image.shape, val_index.shape, val_count.shape)\n",
    "print(test_image.shape, test_index.shape, test_count.shape)"
   ]
  },
  {
   "cell_type": "markdown",
   "metadata": {},
   "source": [
    "# Data save"
   ]
  },
  {
   "cell_type": "code",
   "execution_count": 3,
   "metadata": {},
   "outputs": [],
   "source": [
    "data_path = '../data/db_cropped_face/data.h5'\n",
    "with h5py.File(data_path, mode='w') as data_file:\n",
    "    data_file.create_dataset('train_images', train_image.shape, np.uint8)\n",
    "    data_file.create_dataset('val_images', val_image.shape, np.uint8)\n",
    "    data_file.create_dataset('test_images', test_image.shape, np.uint8)\n",
    "    \n",
    "    data_file.create_dataset('train_index', train_index.shape, np.uint32)\n",
    "    data_file.create_dataset('val_index', val_index.shape, np.uint32)\n",
    "    data_file.create_dataset('test_index', test_index.shape, np.uint32)\n",
    "    \n",
    "    data_file.create_dataset('train_count', train_count.shape, np.uint32)\n",
    "    data_file.create_dataset('val_count', val_count.shape, np.uint32)\n",
    "    data_file.create_dataset('test_count', test_count.shape, np.uint32)\n",
    "    \n",
    "    \n",
    "    data_file['train_images'][...] = train_image\n",
    "    data_file['val_images'][...] = val_image\n",
    "    data_file['test_images'][...] = test_image\n",
    "    \n",
    "    data_file['train_index'][...] = train_index\n",
    "    data_file['val_index'][...] = val_index\n",
    "    data_file['test_index'][...] = test_index\n",
    "    \n",
    "    data_file['train_count'][...] = train_count\n",
    "    data_file['val_count'][...] = val_count\n",
    "    data_file['test_count'][...] = test_count"
   ]
  },
  {
   "cell_type": "markdown",
   "metadata": {},
   "source": [
    "# Visualization data"
   ]
  },
  {
   "cell_type": "code",
   "execution_count": 9,
   "metadata": {},
   "outputs": [],
   "source": [
    "import h5py\n",
    "import numpy as np\n",
    "import cv2\n",
    "\n",
    "path = '../data/db_cropped_face/data.h5'\n",
    "file = h5py.File(path, 'r')\n",
    "\n",
    "def test_data(file, data_type):\n",
    "    images = file[data_type+'_images']\n",
    "    index = file[data_type+'_index']\n",
    "    count = file[data_type+'_count']\n",
    "    \n",
    "    for i, c in zip(index, count):\n",
    "        for j in range(c):\n",
    "            image = images[i+j]\n",
    "            cv2.imshow('Image', image)\n",
    "            key = cv2.waitKey(0)\n",
    "            if key == 27:\n",
    "                break\n",
    "            elif key == 13:\n",
    "                break\n",
    "        if key == 27:\n",
    "            break\n",
    "    cv2.destroyAllWindows()\n",
    "    \n",
    "test_data(file, 'train')\n",
    "test_data(file, 'test')\n",
    "test_data(file, 'val')\n",
    "\n",
    "file.close()"
   ]
  }
 ],
 "metadata": {
  "kernelspec": {
   "display_name": "final_proj",
   "language": "python",
   "name": "final_proj"
  },
  "language_info": {
   "codemirror_mode": {
    "name": "ipython",
    "version": 3
   },
   "file_extension": ".py",
   "mimetype": "text/x-python",
   "name": "python",
   "nbconvert_exporter": "python",
   "pygments_lexer": "ipython3",
   "version": "3.7.7"
  }
 },
 "nbformat": 4,
 "nbformat_minor": 2
}
