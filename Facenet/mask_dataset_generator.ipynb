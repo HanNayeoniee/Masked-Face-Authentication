{
 "cells": [
  {
   "cell_type": "markdown",
   "metadata": {},
   "source": [
    "# 우리가 나눈 train/val/test dataset을 h5파일로 만들기"
   ]
  },
  {
   "cell_type": "markdown",
   "metadata": {},
   "source": [
    "# Load Data"
   ]
  },
  {
   "cell_type": "code",
   "execution_count": 7,
   "metadata": {},
   "outputs": [
    {
     "name": "stdout",
     "output_type": "stream",
     "text": [
      "[['../data/mask_dataset_face\\\\01'], ['../data/mask_dataset_face\\\\02'], ['../data/mask_dataset_face\\\\03'], ['../data/mask_dataset_face\\\\04'], ['../data/mask_dataset_face\\\\05'], ['../data/mask_dataset_face\\\\06'], ['../data/mask_dataset_face\\\\07'], ['../data/mask_dataset_face\\\\08'], ['../data/mask_dataset_face\\\\09'], ['../data/mask_dataset_face\\\\10'], ['../data/mask_dataset_face\\\\11'], ['../data/mask_dataset_face\\\\12'], ['../data/mask_dataset_face\\\\13'], ['../data/mask_dataset_face\\\\14'], ['../data/mask_dataset_face\\\\15'], ['../data/mask_dataset_face\\\\16'], ['../data/mask_dataset_face\\\\17'], ['../data/mask_dataset_face\\\\18'], ['../data/mask_dataset_face\\\\19'], ['../data/mask_dataset_face\\\\20'], ['../data/mask_dataset_face\\\\21'], ['../data/mask_dataset_face\\\\22'], ['../data/mask_dataset_face\\\\23'], ['../data/mask_dataset_face\\\\24'], ['../data/mask_dataset_face\\\\25'], ['../data/mask_dataset_face\\\\26'], ['../data/mask_dataset_face\\\\27'], ['../data/mask_dataset_face\\\\28'], ['../data/mask_dataset_face\\\\29'], ['../data/mask_dataset_face\\\\30'], ['../data/mask_dataset_face\\\\31'], ['../data/mask_dataset_face\\\\32'], ['../data/mask_dataset_face\\\\33'], ['../data/mask_dataset_face\\\\34'], ['../data/mask_dataset_face\\\\35'], ['../data/mask_dataset_face\\\\36'], ['../data/mask_dataset_face\\\\37'], ['../data/mask_dataset_face\\\\38'], ['../data/mask_dataset_face\\\\39'], ['../data/mask_dataset_face\\\\40'], ['../data/mask_dataset_face\\\\41'], ['../data/mask_dataset_face\\\\42'], ['../data/mask_dataset_face\\\\43'], ['../data/mask_dataset_face\\\\44'], ['../data/mask_dataset_face\\\\45'], ['../data/mask_dataset_face\\\\46'], ['../data/mask_dataset_face\\\\47'], ['../data/mask_dataset_face\\\\48'], ['../data/mask_dataset_face\\\\49'], ['../data/mask_dataset_face\\\\50'], ['../data/mask_dataset_face\\\\mask_face_data.h5']]\n",
      "mask_face_dirs 길이:  51\n",
      "<class 'list'>\n",
      "(300, 120, 120, 3) (51,) (51,)\n"
     ]
    }
   ],
   "source": [
    "import glob\n",
    "import h5py\n",
    "import numpy as np\n",
    "import cv2\n",
    "\n",
    "# train_dirs = glob.glob('../data/db_cropped_face/train/*')\n",
    "# val_dirs = glob.glob('../data/db_cropped_face/val/*')\n",
    "# test_dirs = glob.glob('../data/db_cropped_face/test/*')\n",
    "\n",
    "dirs=glob.glob('../data/mask_dataset_face/*')\n",
    "# dirs=glob.glob('../data/mask_dataset_periocular/*')\n",
    "mask_face_dirs=[]\n",
    "for folder_num in range(len(dirs)):\n",
    "    mask_face_dirs.append(glob.glob(dirs[folder_num]))\n",
    "print(mask_face_dirs)\n",
    "\n",
    "# print(len(train_dirs))\n",
    "# print(len(val_dirs))\n",
    "# print(len(test_dirs))\n",
    "print(\"mask_face_dirs 길이: \", len(mask_face_dirs))\n",
    "print(type(mask_face_dirs))\n",
    "\n",
    "def get_image_index_count(dirs):\n",
    "    index_list = [0]\n",
    "    count_list = []\n",
    "    image_list = []\n",
    "    \n",
    "    for dir_name in dirs:\n",
    "        paths = glob.glob(dir_name+'/*.jpg')\n",
    "\n",
    "        count = len(paths)\n",
    "        count_list.append(count)\n",
    "        index_list.append(index_list[-1] + count)\n",
    "\n",
    "        for path in paths:\n",
    "            image = cv2.imread(path)\n",
    "            image_list.append(image)\n",
    "    del index_list[-1]\n",
    "    \n",
    "    return np.array(image_list), np.array(index_list), np.array(count_list)\n",
    "\n",
    "# train_image, train_index, train_count = get_image_index_count(train_dirs)\n",
    "# val_image, val_index, val_count = get_image_index_count(val_dirs)\n",
    "# test_image, test_index, test_count = get_image_index_count(test_dirs)\n",
    "mask_face_image, mask_face_index, mask_face_count = get_image_index_count(dirs)\n",
    "\n",
    "# print(train_image.shape, train_index.shape, train_count.shape)\n",
    "# print(val_image.shape, val_index.shape, val_count.shape)\n",
    "# print(test_image.shape, test_index.shape, test_count.shape)\n",
    "print(mask_face_image.shape, mask_face_index.shape, mask_face_count.shape)"
   ]
  },
  {
   "cell_type": "markdown",
   "metadata": {},
   "source": [
    "# Data save"
   ]
  },
  {
   "cell_type": "code",
   "execution_count": 8,
   "metadata": {},
   "outputs": [],
   "source": [
    "# data_path = '../data/db_cropped_face/data.h5'\n",
    "data_path = '../data/mask_dataset_face/mask_face_data.h5'\n",
    "# data_path = '../data/mask_dataset_periocular/mask_periocular_data.h5'\n",
    "with h5py.File(data_path, mode='w') as data_file:\n",
    "#     data_file.create_dataset('train_images', train_image.shape, np.uint8)\n",
    "#     data_file.create_dataset('val_images', val_image.shape, np.uint8)\n",
    "#     data_file.create_dataset('test_images', test_image.shape, np.uint8)\n",
    "    \n",
    "#     data_file.create_dataset('train_index', train_index.shape, np.uint32)\n",
    "#     data_file.create_dataset('val_index', val_index.shape, np.uint32)\n",
    "#     data_file.create_dataset('test_index', test_index.shape, np.uint32)\n",
    "    \n",
    "#     data_file.create_dataset('train_count', train_count.shape, np.uint32)\n",
    "#     data_file.create_dataset('val_count', val_count.shape, np.uint32)\n",
    "#     data_file.create_dataset('test_count', test_count.shape, np.uint32)\n",
    "    \n",
    "    \n",
    "#     data_file['train_images'][...] = train_image\n",
    "#     data_file['val_images'][...] = val_image\n",
    "#     data_file['test_images'][...] = test_image\n",
    "    \n",
    "#     data_file['train_index'][...] = train_index\n",
    "#     data_file['val_index'][...] = val_index\n",
    "#     data_file['test_index'][...] = test_index\n",
    "    \n",
    "#     data_file['train_count'][...] = train_count\n",
    "#     data_file['val_count'][...] = val_count\n",
    "#     data_file['test_count'][...] = test_count\n",
    "    \n",
    "    data_file.create_dataset('mask_face_images', mask_face_image.shape, np.uint8)\n",
    "    data_file.create_dataset('mask_face_index', mask_face_index.shape, np.uint32)\n",
    "    data_file.create_dataset('mask_face_count', mask_face_count.shape, np.uint32)\n",
    "    data_file['mask_face_images'][...] = mask_face_image\n",
    "    data_file['mask_face_index'][...] = mask_face_index\n",
    "    data_file['mask_face_count'][...] = mask_face_count"
   ]
  },
  {
   "cell_type": "markdown",
   "metadata": {},
   "source": [
    "# Visualization data"
   ]
  },
  {
   "cell_type": "code",
   "execution_count": 9,
   "metadata": {},
   "outputs": [
    {
     "ename": "TypeError",
     "evalue": "test_data() takes 1 positional argument but 2 were given",
     "output_type": "error",
     "traceback": [
      "\u001b[1;31m---------------------------------------------------------------------------\u001b[0m",
      "\u001b[1;31mTypeError\u001b[0m                                 Traceback (most recent call last)",
      "\u001b[1;32m<ipython-input-9-cabca3ec3a10>\u001b[0m in \u001b[0;36m<module>\u001b[1;34m\u001b[0m\n\u001b[0;32m     33\u001b[0m \u001b[1;31m# test_data(file, 'test')\u001b[0m\u001b[1;33m\u001b[0m\u001b[1;33m\u001b[0m\u001b[1;33m\u001b[0m\u001b[0m\n\u001b[0;32m     34\u001b[0m \u001b[1;31m# test_data(file, 'val')\u001b[0m\u001b[1;33m\u001b[0m\u001b[1;33m\u001b[0m\u001b[1;33m\u001b[0m\u001b[0m\n\u001b[1;32m---> 35\u001b[1;33m \u001b[0mtest_data\u001b[0m\u001b[1;33m(\u001b[0m\u001b[0mfile\u001b[0m\u001b[1;33m,\u001b[0m \u001b[1;34m'mask_face'\u001b[0m\u001b[1;33m)\u001b[0m\u001b[1;33m\u001b[0m\u001b[1;33m\u001b[0m\u001b[0m\n\u001b[0m\u001b[0;32m     36\u001b[0m \u001b[1;33m\u001b[0m\u001b[0m\n\u001b[0;32m     37\u001b[0m \u001b[0mfile\u001b[0m\u001b[1;33m.\u001b[0m\u001b[0mclose\u001b[0m\u001b[1;33m(\u001b[0m\u001b[1;33m)\u001b[0m\u001b[1;33m\u001b[0m\u001b[1;33m\u001b[0m\u001b[0m\n",
      "\u001b[1;31mTypeError\u001b[0m: test_data() takes 1 positional argument but 2 were given"
     ]
    }
   ],
   "source": [
    "import h5py\n",
    "import numpy as np\n",
    "import cv2\n",
    "\n",
    "path = '../data/db_cropped_face/data.h5'\n",
    "# path = '../data/mask_dataset_periocular/mask_periocular_data.h5'\n",
    "file = h5py.File(path, 'r')\n",
    "\n",
    "def test_data(file, data_type):\n",
    "    images = file[data_type+'_images']\n",
    "    index = file[data_type+'_index']\n",
    "    count = file[data_type+'_count']\n",
    "\n",
    "def test_data(file):\n",
    "    images = file['_images']\n",
    "    index = file['_index']\n",
    "    count = file['_count']\n",
    "    \n",
    "    for i, c in zip(index, count):\n",
    "        for j in range(c):\n",
    "            image = images[i+j]\n",
    "            cv2.imshow('Image', image)\n",
    "            key = cv2.waitKey(0)\n",
    "            if key == 27:\n",
    "                break\n",
    "            elif key == 13:\n",
    "                break\n",
    "        if key == 27:\n",
    "            break\n",
    "    cv2.destroyAllWindows()\n",
    "    \n",
    "# test_data(file, 'train')\n",
    "# test_data(file, 'test')\n",
    "# test_data(file, 'val')\n",
    "test_data(file, 'mask_face')\n",
    "\n",
    "file.close()"
   ]
  },
  {
   "cell_type": "code",
   "execution_count": null,
   "metadata": {},
   "outputs": [],
   "source": []
  },
  {
   "cell_type": "code",
   "execution_count": null,
   "metadata": {},
   "outputs": [],
   "source": []
  }
 ],
 "metadata": {
  "kernelspec": {
   "display_name": "final_proj",
   "language": "python",
   "name": "final_proj"
  },
  "language_info": {
   "codemirror_mode": {
    "name": "ipython",
    "version": 3
   },
   "file_extension": ".py",
   "mimetype": "text/x-python",
   "name": "python",
   "nbconvert_exporter": "python",
   "pygments_lexer": "ipython3",
   "version": "3.7.7"
  }
 },
 "nbformat": 4,
 "nbformat_minor": 2
}
